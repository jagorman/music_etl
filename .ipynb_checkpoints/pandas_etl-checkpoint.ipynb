{
 "cells": [
  {
   "cell_type": "code",
   "execution_count": 1,
   "metadata": {},
   "outputs": [],
   "source": [
    "import pandas as pd\n",
    "from sqlalchemy import create_engine"
   ]
  },
  {
   "cell_type": "markdown",
   "metadata": {},
   "source": [
    "### Extract CSVs into DataFrames"
   ]
  },
  {
   "cell_type": "code",
   "execution_count": 2,
   "metadata": {},
   "outputs": [],
   "source": [
    "genres_file = \"Resources/data_by_genres.csv\"\n"
   ]
  },
  {
   "cell_type": "code",
   "execution_count": 3,
   "metadata": {},
   "outputs": [],
   "source": [
    "year_file = \"Resources/data_by_year.csv\"\n"
   ]
  },
  {
   "cell_type": "markdown",
   "metadata": {},
   "source": [
    "### Transform premise DataFrame"
   ]
  },
  {
   "cell_type": "code",
   "execution_count": 7,
   "metadata": {},
   "outputs": [
    {
     "data": {
      "text/html": [
       "<div>\n",
       "<style scoped>\n",
       "    .dataframe tbody tr th:only-of-type {\n",
       "        vertical-align: middle;\n",
       "    }\n",
       "\n",
       "    .dataframe tbody tr th {\n",
       "        vertical-align: top;\n",
       "    }\n",
       "\n",
       "    .dataframe thead th {\n",
       "        text-align: right;\n",
       "    }\n",
       "</style>\n",
       "<table border=\"1\" class=\"dataframe\">\n",
       "  <thead>\n",
       "    <tr style=\"text-align: right;\">\n",
       "      <th></th>\n",
       "      <th>genres</th>\n",
       "      <th>acousticness</th>\n",
       "      <th>danceability</th>\n",
       "      <th>duration_ms</th>\n",
       "      <th>energy</th>\n",
       "      <th>instrumentalness</th>\n",
       "      <th>liveness</th>\n",
       "      <th>loudness</th>\n",
       "      <th>speechiness</th>\n",
       "      <th>tempo</th>\n",
       "      <th>valence</th>\n",
       "      <th>popularity</th>\n",
       "      <th>key</th>\n",
       "      <th>mode</th>\n",
       "    </tr>\n",
       "  </thead>\n",
       "  <tbody>\n",
       "    <tr>\n",
       "      <th>0</th>\n",
       "      <td>21st century classical</td>\n",
       "      <td>0.754600</td>\n",
       "      <td>0.284100</td>\n",
       "      <td>3.525932e+05</td>\n",
       "      <td>0.159580</td>\n",
       "      <td>0.484374</td>\n",
       "      <td>0.168580</td>\n",
       "      <td>-22.153400</td>\n",
       "      <td>0.062060</td>\n",
       "      <td>91.351000</td>\n",
       "      <td>0.143380</td>\n",
       "      <td>6.600000</td>\n",
       "      <td>4</td>\n",
       "      <td>1</td>\n",
       "    </tr>\n",
       "    <tr>\n",
       "      <th>1</th>\n",
       "      <td>432hz</td>\n",
       "      <td>0.485515</td>\n",
       "      <td>0.312000</td>\n",
       "      <td>1.047430e+06</td>\n",
       "      <td>0.391678</td>\n",
       "      <td>0.477250</td>\n",
       "      <td>0.265940</td>\n",
       "      <td>-18.131267</td>\n",
       "      <td>0.071717</td>\n",
       "      <td>118.900933</td>\n",
       "      <td>0.236483</td>\n",
       "      <td>41.200000</td>\n",
       "      <td>11</td>\n",
       "      <td>1</td>\n",
       "    </tr>\n",
       "    <tr>\n",
       "      <th>2</th>\n",
       "      <td>8-bit</td>\n",
       "      <td>0.028900</td>\n",
       "      <td>0.673000</td>\n",
       "      <td>1.334540e+05</td>\n",
       "      <td>0.950000</td>\n",
       "      <td>0.630000</td>\n",
       "      <td>0.069000</td>\n",
       "      <td>-7.899000</td>\n",
       "      <td>0.292000</td>\n",
       "      <td>192.816000</td>\n",
       "      <td>0.997000</td>\n",
       "      <td>0.000000</td>\n",
       "      <td>5</td>\n",
       "      <td>1</td>\n",
       "    </tr>\n",
       "    <tr>\n",
       "      <th>3</th>\n",
       "      <td>[]</td>\n",
       "      <td>0.535793</td>\n",
       "      <td>0.546937</td>\n",
       "      <td>2.495312e+05</td>\n",
       "      <td>0.485430</td>\n",
       "      <td>0.278442</td>\n",
       "      <td>0.220970</td>\n",
       "      <td>-11.624754</td>\n",
       "      <td>0.101511</td>\n",
       "      <td>116.068980</td>\n",
       "      <td>0.486361</td>\n",
       "      <td>12.350770</td>\n",
       "      <td>7</td>\n",
       "      <td>1</td>\n",
       "    </tr>\n",
       "    <tr>\n",
       "      <th>4</th>\n",
       "      <td>a cappella</td>\n",
       "      <td>0.694276</td>\n",
       "      <td>0.516172</td>\n",
       "      <td>2.018391e+05</td>\n",
       "      <td>0.330533</td>\n",
       "      <td>0.036080</td>\n",
       "      <td>0.222983</td>\n",
       "      <td>-12.656547</td>\n",
       "      <td>0.083627</td>\n",
       "      <td>105.506031</td>\n",
       "      <td>0.454077</td>\n",
       "      <td>39.086248</td>\n",
       "      <td>7</td>\n",
       "      <td>1</td>\n",
       "    </tr>\n",
       "  </tbody>\n",
       "</table>\n",
       "</div>"
      ],
      "text/plain": [
       "                   genres  acousticness  danceability   duration_ms    energy  \\\n",
       "0  21st century classical      0.754600      0.284100  3.525932e+05  0.159580   \n",
       "1                   432hz      0.485515      0.312000  1.047430e+06  0.391678   \n",
       "2                   8-bit      0.028900      0.673000  1.334540e+05  0.950000   \n",
       "3                      []      0.535793      0.546937  2.495312e+05  0.485430   \n",
       "4              a cappella      0.694276      0.516172  2.018391e+05  0.330533   \n",
       "\n",
       "   instrumentalness  liveness   loudness  speechiness       tempo   valence  \\\n",
       "0          0.484374  0.168580 -22.153400     0.062060   91.351000  0.143380   \n",
       "1          0.477250  0.265940 -18.131267     0.071717  118.900933  0.236483   \n",
       "2          0.630000  0.069000  -7.899000     0.292000  192.816000  0.997000   \n",
       "3          0.278442  0.220970 -11.624754     0.101511  116.068980  0.486361   \n",
       "4          0.036080  0.222983 -12.656547     0.083627  105.506031  0.454077   \n",
       "\n",
       "   popularity  key  mode  \n",
       "0    6.600000    4     1  \n",
       "1   41.200000   11     1  \n",
       "2    0.000000    5     1  \n",
       "3   12.350770    7     1  \n",
       "4   39.086248    7     1  "
      ]
     },
     "execution_count": 7,
     "metadata": {},
     "output_type": "execute_result"
    }
   ],
   "source": [
    "genres_db = pd.read_csv(genres_file)\n",
    "genres_db.head()"
   ]
  },
  {
   "cell_type": "markdown",
   "metadata": {},
   "source": [
    "### Transform county DataFrame"
   ]
  },
  {
   "cell_type": "code",
   "execution_count": null,
   "metadata": {},
   "outputs": [],
   "source": [
    "year_db = pd.read_csv(year_file)\n"
   ]
  },
  {
   "cell_type": "markdown",
   "metadata": {},
   "source": [
    "### Create database connection"
   ]
  },
  {
   "cell_type": "code",
   "execution_count": null,
   "metadata": {},
   "outputs": [],
   "source": []
  },
  {
   "cell_type": "code",
   "execution_count": null,
   "metadata": {},
   "outputs": [],
   "source": [
    "# Confirm tables\n"
   ]
  },
  {
   "cell_type": "markdown",
   "metadata": {},
   "source": [
    "### Load DataFrames into database"
   ]
  },
  {
   "cell_type": "code",
   "execution_count": null,
   "metadata": {},
   "outputs": [],
   "source": []
  },
  {
   "cell_type": "code",
   "execution_count": null,
   "metadata": {},
   "outputs": [],
   "source": []
  }
 ],
 "metadata": {
  "kernelspec": {
   "display_name": "Python 3",
   "language": "python",
   "name": "python3"
  },
  "language_info": {
   "codemirror_mode": {
    "name": "ipython",
    "version": 3
   },
   "file_extension": ".py",
   "mimetype": "text/x-python",
   "name": "python",
   "nbconvert_exporter": "python",
   "pygments_lexer": "ipython3",
   "version": "3.8.5"
  }
 },
 "nbformat": 4,
 "nbformat_minor": 2
}
